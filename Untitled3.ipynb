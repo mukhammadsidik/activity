{
  "nbformat": 4,
  "nbformat_minor": 0,
  "metadata": {
    "colab": {
      "provenance": [],
      "authorship_tag": "ABX9TyOqCsaZltEkSx8wmFJ+E+2G",
      "include_colab_link": true
    },
    "kernelspec": {
      "name": "python3",
      "display_name": "Python 3"
    },
    "language_info": {
      "name": "python"
    }
  },
  "cells": [
    {
      "cell_type": "markdown",
      "metadata": {
        "id": "view-in-github",
        "colab_type": "text"
      },
      "source": [
        "<a href=\"https://colab.research.google.com/github/mukhammadsidik/activity/blob/main/Untitled3.ipynb\" target=\"_parent\"><img src=\"https://colab.research.google.com/assets/colab-badge.svg\" alt=\"Open In Colab\"/></a>"
      ]
    },
    {
      "cell_type": "code",
      "execution_count": null,
      "metadata": {
        "id": "oT4tz4TnWsc-"
      },
      "outputs": [],
      "source": [
        "from sqlalchemy import create_engine\n",
        "my_conn = create_engine(\"sqlite:////content/ITSjob.db\")"
      ]
    },
    {
      "cell_type": "code",
      "source": [
        "[] # creating Vehicle table\n",
        "from sqlalchemy.exc import SQLAlchemyError\n",
        "try:\n",
        "     my_conn.execute('''\n",
        "      CREATE TABLE IF NOT EXISTS vehicle (vehicle_id integer primary key,\n",
        "      vehicle_id text,\n",
        "      registration_id text,\n",
        "      manufacturer text,\n",
        "      model text,\n",
        "      color text,\n",
        "      current_odometer integer,\n",
        "      passanger_capacity integer\n",
        "      );''')\n",
        "\n",
        "     print(\"Vehicle Table\")\n",
        "except SQLAlchemyError as e:\n",
        "   #print (e)\n",
        "   error=str(e._dict_['orig'])\n",
        "   print(error)"
      ],
      "metadata": {
        "colab": {
          "base_uri": "https://localhost:8080/"
        },
        "id": "o-IDS1XCXDpq",
        "outputId": "f98fa743-7909-4db2-8d18-a4c5d1d6e268"
      },
      "execution_count": null,
      "outputs": [
        {
          "output_type": "stream",
          "name": "stdout",
          "text": [
            "Vehicle Table\n"
          ]
        }
      ]
    },
    {
      "cell_type": "code",
      "source": [
        "[] # add records to Vehicle table\n",
        "r_set = my_conn.execute(''' INSERT INTO `Vehicles` \n",
        "  (`vehicle_id`, `registration_id`, `manufacturer`, `model`, `current_odometer`, `passenger_capacity`, `color`) VALUES\n",
        "  (V1001, '2001 ABC', 'Volvo', 'XC90 SE', 4350, 4, 'Silver'),\n",
        "  (V1002, '2006 AFD', 'Kia', 'K7', 2195, 4, 'Black'),\n",
        "  (V1003, '2021 AHR', 'Tesla', '2020 F', 509, 4, 'White'),\n",
        "  (V1004, '2020 DXF', 'Ford', 'Transit',, 974, 2, 'Silver');''')"
      ],
      "metadata": {
        "id": "cXImoN3ooWMi"
      },
      "execution_count": null,
      "outputs": []
    },
    {
      "cell_type": "code",
      "source": [
        "[] # creating vehicle action table\n",
        "from sqlalchemy.exc import SQLAlchemyError\n",
        "try:\n",
        "     my_conn.execute('''\n",
        "      CREATE TABLE IF NOT EXISTS Vehicle_action (id integer primary key,\n",
        "      action_type char\n",
        "      odometr integer,\n",
        "      final_cost text,\n",
        "      brief_discription text,\n",
        "      date integral\n",
        "      );''')\n",
        "\n",
        "     print(\"Vehicle_action Table\")\n",
        "except SQLAlchemyError as e:\n",
        "   #print (e)\n",
        "   error=str(e._dict_['orig'])\n",
        "   print(error)"
      ],
      "metadata": {
        "colab": {
          "base_uri": "https://localhost:8080/"
        },
        "id": "m_I7MiwX_f80",
        "outputId": "eb59fad9-f3fd-40c8-c3b3-236aceee248a"
      },
      "execution_count": 87,
      "outputs": [
        {
          "output_type": "stream",
          "name": "stdout",
          "text": [
            "Vehicle_action Table\n"
          ]
        }
      ]
    },
    {
      "cell_type": "code",
      "source": [
        "[] # creating Game_officials table\n",
        "from sqlalchemy.exc import SQLAlchemyError\n",
        "try:\n",
        "     my_conn.execute('''\n",
        "      CREATE TABLE IF NOT EXISTS Game_officials (Game_officials_id integer primary key,\n",
        "      city_id integer,\n",
        "      cityname text,\n",
        "      role text,\n",
        "      language text\n",
        "      );''')\n",
        "\n",
        "     print(\"Game_officials Table\")\n",
        "except SQLAlchemyError as e:\n",
        "   #print (e)\n",
        "   error=str(e._dict_['orig'])\n",
        "   print(error)"
      ],
      "metadata": {
        "colab": {
          "base_uri": "https://localhost:8080/"
        },
        "id": "T_ynpCY10wOT",
        "outputId": "282b6207-cf67-4c16-edec-b9608d202ca2"
      },
      "execution_count": null,
      "outputs": [
        {
          "output_type": "stream",
          "name": "stdout",
          "text": [
            "Game_officials Table\n"
          ]
        }
      ]
    },
    {
      "cell_type": "code",
      "source": [
        "[] # add records to drivers_information\n",
        "r_set = my_conn.execute(''' INSERT INTO `drivers`  \n",
        "  (`id`, `name`, `license_number`, `clearance_level`) VALUES\n",
        "  (1, \"Bilal\", '123456789010111213', 3),\n",
        "  (2, \"Mukhammad\", '123456789014151617', 1)\n",
        "  (3, \"Siddik\", '123456789098765432', 2)\n",
        "  (4,\"Mike\", '123456789018191011', 4);''')"
      ],
      "metadata": {
        "id": "O-BOpbKq1def"
      },
      "execution_count": null,
      "outputs": []
    },
    {
      "cell_type": "code",
      "source": [
        "[] # creating fatl table\n",
        "from sqlalchemy.exc import SQLAlchemyError\n",
        "try:\n",
        "     my_conn.execute('''\n",
        "      CREATE TABLE IF NOT EXISTS fatl (fatl_id integer primary key,\n",
        "      drivers_id integer,\n",
        "      level integral,\n",
        "      date integral\n",
        "      );''')\n",
        "\n",
        "     print(\"fatl Table\")\n",
        "except SQLAlchemyError as e:\n",
        "   #print (e)\n",
        "   error=str(e._dict_['orig'])\n",
        "   print(error)"
      ],
      "metadata": {
        "colab": {
          "base_uri": "https://localhost:8080/"
        },
        "id": "j6d4ZYrq_N5Q",
        "outputId": "2835dc61-3537-4c11-fd4b-6b32403c7baf"
      },
      "execution_count": 86,
      "outputs": [
        {
          "output_type": "stream",
          "name": "stdout",
          "text": [
            "fatl Table\n"
          ]
        }
      ]
    },
    {
      "cell_type": "code",
      "source": [
        "[] # creating stlvt table\n",
        "from sqlalchemy.exc import SQLAlchemyError\n",
        "try:\n",
        "     my_conn.execute('''\n",
        "      CREATE TABLE IF NOT EXISTS stlvt (stlvt_id integer primary key,\n",
        "      drivers_id integer,\n",
        "      level integral,\n",
        "      qualification_date integral,\n",
        "      authority text\n",
        "      );''')\n",
        "\n",
        "     print(\"stlvt Table\")\n",
        "except SQLAlchemyError as e:\n",
        "   #print (e)\n",
        "   error=str(e._dict_['orig'])\n",
        "   print(error)"
      ],
      "metadata": {
        "id": "WkM3lQgL9IUT",
        "colab": {
          "base_uri": "https://localhost:8080/"
        },
        "outputId": "7c1fe5e4-1075-4253-a51c-8227f7ec95ae"
      },
      "execution_count": 79,
      "outputs": [
        {
          "output_type": "stream",
          "name": "stdout",
          "text": [
            "stlvt Table\n"
          ]
        }
      ]
    },
    {
      "cell_type": "code",
      "source": [
        "#created table 'Locations'\n",
        "my_conn.execute('''\n",
        "  CREATE TABLE IF NOT EXISTS Locations(\n",
        "    id integer primary key,\n",
        "    name text,\n",
        "    street_number text,\n",
        "    city text,\n",
        "    type text)\n",
        "    ''')"
      ],
      "metadata": {
        "colab": {
          "base_uri": "https://localhost:8080/"
        },
        "id": "9LVCq-A6AQuc",
        "outputId": "4c0df7f8-0721-4dac-f0ae-00ecf5deb87b"
      },
      "execution_count": 88,
      "outputs": [
        {
          "output_type": "execute_result",
          "data": {
            "text/plain": [
              "<sqlalchemy.engine.cursor.LegacyCursorResult at 0x7f31d67cae10>"
            ]
          },
          "metadata": {},
          "execution_count": 88
        }
      ]
    },
    {
      "cell_type": "code",
      "source": [
        "[] # creating location table\n",
        "from sqlalchemy.exc import SQLAlchemyError\n",
        "try:\n",
        "     my_conn.execute('''\n",
        "      CREATE TABLE IF NOT EXISTS location (id integer primary key,\n",
        "      name text,\n",
        "      street_number integral,\n",
        "      city text,\n",
        "      type text\n",
        "      );''')\n",
        "\n",
        "     print(\"location Table\")\n",
        "except SQLAlchemyError as e:\n",
        "   #print (e)\n",
        "   error=str(e._dict_['orig'])\n",
        "   print(error)"
      ],
      "metadata": {
        "colab": {
          "base_uri": "https://localhost:8080/"
        },
        "id": "2ferPY9FCOdZ",
        "outputId": "a85367de-3210-4be5-c1f2-ad5896d9c35b"
      },
      "execution_count": 92,
      "outputs": [
        {
          "output_type": "stream",
          "name": "stdout",
          "text": [
            "location Table\n"
          ]
        }
      ]
    },
    {
      "cell_type": "code",
      "source": [
        "[] # creating trip table\n",
        "from sqlalchemy.exc import SQLAlchemyError\n",
        "try:\n",
        "     my_conn.execute('''\n",
        "      CREATE TABLE IF NOT EXISTS trip (trip_id integer primary key,\n",
        "      booking_reference integral,\n",
        "      trip_start time,\n",
        "      trip_finish time\n",
        "      start_odometr integral\n",
        "      finish_odometr integral\n",
        "      );''')\n",
        "\n",
        "     print(\"trip created successfully\")\n",
        "except SQLAlchemyError as e:\n",
        "   #print (e)\n",
        "   error=str(e._dict_['orig'])\n",
        "   print(error)"
      ],
      "metadata": {
        "colab": {
          "base_uri": "https://localhost:8080/"
        },
        "id": "ef4Iiqe4Cxdn",
        "outputId": "5635108a-c870-419f-eb10-106e4f570aa5"
      },
      "execution_count": 93,
      "outputs": [
        {
          "output_type": "stream",
          "name": "stdout",
          "text": [
            "trip created successfully\n"
          ]
        }
      ]
    },
    {
      "cell_type": "code",
      "source": [
        "[] #add records to trip Table\n",
        "r_set=my_conn.execute('''INSERT INTO `trip`\n",
        "(`trip_id`, `booking_reference`, `trip_start`, `trip_finish`, 'odomert_start', 'odometr_finish') VALUES\n",
        "( 1, 'A1234', 7, 9, 0, 13),\n",
        "( 2, 'B1234', 8, 10, 0, 12),\n",
        "( 3, 'C1234', 9, 11, 0, 19),\n",
        "( 4, 'D1234', 10, 12, 0, 10);''')"
      ],
      "metadata": {
        "id": "xO_EPVb-Dd7q"
      },
      "execution_count": null,
      "outputs": []
    }
  ]
}